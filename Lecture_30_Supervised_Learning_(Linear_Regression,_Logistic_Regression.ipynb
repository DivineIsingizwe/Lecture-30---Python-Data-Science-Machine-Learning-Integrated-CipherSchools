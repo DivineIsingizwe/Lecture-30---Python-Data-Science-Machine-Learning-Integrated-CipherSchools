{
  "nbformat": 4,
  "nbformat_minor": 0,
  "metadata": {
    "colab": {
      "provenance": []
    },
    "kernelspec": {
      "name": "python3",
      "display_name": "Python 3"
    },
    "language_info": {
      "name": "python"
    }
  },
  "cells": [
    {
      "cell_type": "code",
      "source": [
        "from sklearn.model_selection import train_test_split\n",
        "from sklearn.linear_model import LinearRegression\n",
        "from sklearn.metrics import mean_squared_error\n",
        "\n",
        "\n",
        "# Generating synthetic date\n",
        "import numpy as np\n",
        "x = np.random.rand(100, 1) * 10\n",
        "y = 2.5 * x + np.random.rand(100, 1) * 2\n",
        "\n",
        "# Splitting data into training and testing testing sets\n",
        "x_train, x_test, y_train, y_test = train_test_split(x, y, test_size=0.2, random_state=42)\n",
        "\n",
        "# Training the model\n",
        "model = LinearRegression()\n",
        "model.fit(x_train, y_train)\n",
        "\n",
        "# Making predictions\n",
        "y_pred = model.predict(x_test)\n",
        "\n",
        "# Evaluating the model\n",
        "mse = mean_squared_error(y_test, y_pred)\n",
        "print(f'Mean Squared Error:,{mse}')"
      ],
      "metadata": {
        "colab": {
          "base_uri": "https://localhost:8080/"
        },
        "id": "a-YMIEYaCQRM",
        "outputId": "d722ed57-525d-4e51-9515-3eedcba1e801"
      },
      "execution_count": 3,
      "outputs": [
        {
          "output_type": "stream",
          "name": "stdout",
          "text": [
            "Mean Squared Error:,0.3146815564906868\n"
          ]
        }
      ]
    },
    {
      "cell_type": "code",
      "source": [
        "y_pred"
      ],
      "metadata": {
        "colab": {
          "base_uri": "https://localhost:8080/"
        },
        "id": "KhAiXaRTDI92",
        "outputId": "04474901-0f82-45da-cf9a-4f8a1160f366"
      },
      "execution_count": 4,
      "outputs": [
        {
          "output_type": "execute_result",
          "data": {
            "text/plain": [
              "array([[20.10403702],\n",
              "       [13.35096827],\n",
              "       [19.55380608],\n",
              "       [23.50061097],\n",
              "       [22.02980215],\n",
              "       [ 6.66697577],\n",
              "       [23.90361003],\n",
              "       [ 9.0080089 ],\n",
              "       [23.51339643],\n",
              "       [19.642839  ],\n",
              "       [25.39075188],\n",
              "       [17.7183262 ],\n",
              "       [12.78679848],\n",
              "       [ 6.53046832],\n",
              "       [ 5.31633938],\n",
              "       [ 5.97925582],\n",
              "       [21.56195178],\n",
              "       [19.1588786 ],\n",
              "       [ 9.94568222],\n",
              "       [15.0832152 ]])"
            ]
          },
          "metadata": {},
          "execution_count": 4
        }
      ]
    },
    {
      "cell_type": "code",
      "source": [
        "x_test"
      ],
      "metadata": {
        "colab": {
          "base_uri": "https://localhost:8080/"
        },
        "id": "UBZ5UrT0DNOq",
        "outputId": "aace4dee-c665-49a5-e32f-2a5dd114a3cc"
      },
      "execution_count": 5,
      "outputs": [
        {
          "output_type": "execute_result",
          "data": {
            "text/plain": [
              "array([[7.69177367],\n",
              "       [4.96110586],\n",
              "       [7.46928254],\n",
              "       [9.06521077],\n",
              "       [8.47047518],\n",
              "       [2.2583697 ],\n",
              "       [9.22816728],\n",
              "       [3.20498879],\n",
              "       [9.07038069],\n",
              "       [7.50528385],\n",
              "       [9.82950729],\n",
              "       [6.72708873],\n",
              "       [4.73297843],\n",
              "       [2.20317161],\n",
              "       [1.71222698],\n",
              "       [1.98028357],\n",
              "       [8.28129542],\n",
              "       [7.30958984],\n",
              "       [3.58414595],\n",
              "       [5.66155644]])"
            ]
          },
          "metadata": {},
          "execution_count": 5
        }
      ]
    },
    {
      "cell_type": "markdown",
      "source": [
        "Logistic Regression"
      ],
      "metadata": {
        "id": "BQ0gjodoJGK7"
      }
    },
    {
      "cell_type": "markdown",
      "source": [
        ""
      ],
      "metadata": {
        "id": "HyaeliXsDQ58"
      }
    },
    {
      "cell_type": "code",
      "source": [
        "from sklearn.datasets import load_iris # Import load_iris from the correct module\n",
        "from sklearn.model_selection import train_test_split\n",
        "from sklearn.linear_model import LogisticRegression\n",
        "from sklearn.metrics import accuracy_score\n",
        "\n",
        "# Loading the Iris dataset\n",
        "iris = load_iris()\n",
        "x = iris.data\n",
        "y = iris.target\n",
        "\n",
        "# Using only two classes for binary classification\n",
        "x = x[y != 2]\n",
        "y = y[y != 2]\n",
        "\n",
        "# splitting data into training and testing set\n",
        "x_train, x_test, y_train, y_test = train_test_split(x, y, test_size=0.2, random_state=42)\n",
        "\n",
        "# Training the model\n",
        "model = LogisticRegression()\n",
        "model.fit(x_train, y_train)\n",
        "\n",
        "# Making predictions\n",
        "y_pred = model.predict(x_test)\n",
        "\n",
        "# Evaluating the model\n",
        "accuracy = accuracy_score(y_test, y_pred)\n",
        "print(f'Accuracy: {accuracy}')"
      ],
      "metadata": {
        "colab": {
          "base_uri": "https://localhost:8080/"
        },
        "id": "eEqC4vvBI9ze",
        "outputId": "e3280ea4-80dc-46e9-a6b2-badf07cef6f0"
      },
      "execution_count": 8,
      "outputs": [
        {
          "output_type": "stream",
          "name": "stdout",
          "text": [
            "Accuracy: 1.0\n"
          ]
        }
      ]
    },
    {
      "cell_type": "markdown",
      "source": [
        "Decision Tree"
      ],
      "metadata": {
        "id": "4kxbmcsDL2Fx"
      }
    },
    {
      "cell_type": "code",
      "source": [
        "from sklearn.datasets import load_iris\n",
        "from sklearn.model_selection import train_test_split\n",
        "from sklearn.tree import DecisionTreeClassifier\n",
        "from sklearn.metrics import accuracy_score\n",
        "\n",
        "# Loading the iris dataset\n",
        "iris = load_iris()\n",
        "x = iris.data\n",
        "y = iris.target\n",
        "\n",
        "# splitting data into traing and testing sets\n",
        "x_train, x_test, y_train, y_test = train_test_split(x, y, test_size=0.2, random_state=42)\n",
        "\n",
        "# Training the model\n",
        "model = DecisionTreeClassifier()\n",
        "model.fit(x_train, y_train)\n",
        "\n",
        "# Making predictions\n",
        "y_pred = model.predict(x_test)\n",
        "\n",
        "# Evaluating the model\n",
        "accuracy = accuracy_score(y_test, y_pred)\n",
        "print(f'Accuracy: {accuracy}')\n",
        "\n"
      ],
      "metadata": {
        "colab": {
          "base_uri": "https://localhost:8080/"
        },
        "id": "a8GMtovDL5TF",
        "outputId": "e21088bc-323f-443d-8572-9a1c4d5369c1"
      },
      "execution_count": 9,
      "outputs": [
        {
          "output_type": "stream",
          "name": "stdout",
          "text": [
            "Accuracy: 1.0\n"
          ]
        }
      ]
    },
    {
      "cell_type": "markdown",
      "source": [
        "Support Vector Machine"
      ],
      "metadata": {
        "id": "Xw3R-uDeNjJ1"
      }
    },
    {
      "cell_type": "code",
      "source": [
        "from sklearn.datasets import load_iris\n",
        "from sklearn.model_selection import train_test_split\n",
        "from sklearn.svm import SVC\n",
        "from sklearn.metrics import accuracy_score\n",
        "\n",
        "# Loading the iris dataset\n",
        "iris = load_iris()\n",
        "x = iris.data\n",
        "y = iris.target\n",
        "\n",
        "# using only two classes for binary classification\n",
        "x = x[y != 2]\n",
        "y = y[y != 2]\n",
        "\n",
        "# splitting data into training and testing sets\n",
        "x_train, x_test, y_train, y_test = train_test_split(x, y, test_size=0.2, random_state=42)\n",
        "\n",
        "# Training the model\n",
        "model = SVC()\n",
        "model.fit(x_train, y_train)\n",
        "\n",
        "# Making predictions\n",
        "y_pred = model.predict(x_test)\n",
        "\n",
        "# Evaluating the model\n",
        "accuracy = accuracy_score(y_test, y_pred)\n",
        "print(f'Accuracy: {accuracy}')\n"
      ],
      "metadata": {
        "colab": {
          "base_uri": "https://localhost:8080/"
        },
        "id": "kPPB-6FVOzIT",
        "outputId": "7b13ffe9-94a0-464c-bb68-ddeb52b44dd3"
      },
      "execution_count": 10,
      "outputs": [
        {
          "output_type": "stream",
          "name": "stdout",
          "text": [
            "Accuracy: 1.0\n"
          ]
        }
      ]
    }
  ]
}